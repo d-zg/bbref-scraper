{
 "cells": [
  {
   "cell_type": "code",
   "execution_count": 1,
   "metadata": {},
   "outputs": [],
   "source": [
    "import pandas as pd\n",
    "import numpy as np\n",
    "import math"
   ]
  },
  {
   "cell_type": "code",
   "execution_count": 5,
   "metadata": {},
   "outputs": [
    {
     "data": {
      "text/html": [
       "<div>\n",
       "<style scoped>\n",
       "    .dataframe tbody tr th:only-of-type {\n",
       "        vertical-align: middle;\n",
       "    }\n",
       "\n",
       "    .dataframe tbody tr th {\n",
       "        vertical-align: top;\n",
       "    }\n",
       "\n",
       "    .dataframe thead th {\n",
       "        text-align: right;\n",
       "    }\n",
       "</style>\n",
       "<table border=\"1\" class=\"dataframe\">\n",
       "  <thead>\n",
       "    <tr style=\"text-align: right;\">\n",
       "      <th></th>\n",
       "      <th>Series</th>\n",
       "      <th>Winner</th>\n",
       "      <th>This Team</th>\n",
       "      <th>Record</th>\n",
       "      <th>Win Order</th>\n",
       "    </tr>\n",
       "  </thead>\n",
       "  <tbody>\n",
       "    <tr>\n",
       "      <th>0</th>\n",
       "      <td>https://www.basketball-reference.com/playoffs/...</td>\n",
       "      <td>Miami Heat</td>\n",
       "      <td>Miami Heat</td>\n",
       "      <td>1-0</td>\n",
       "      <td>W</td>\n",
       "    </tr>\n",
       "    <tr>\n",
       "      <th>1</th>\n",
       "      <td>https://www.basketball-reference.com/playoffs/...</td>\n",
       "      <td>Miami Heat</td>\n",
       "      <td>Milwaukee Bucks</td>\n",
       "      <td>0-1</td>\n",
       "      <td>L</td>\n",
       "    </tr>\n",
       "    <tr>\n",
       "      <th>2</th>\n",
       "      <td>https://www.basketball-reference.com/playoffs/...</td>\n",
       "      <td>Miami Heat</td>\n",
       "      <td>Miami Heat</td>\n",
       "      <td>1-1</td>\n",
       "      <td>WL</td>\n",
       "    </tr>\n",
       "    <tr>\n",
       "      <th>3</th>\n",
       "      <td>https://www.basketball-reference.com/playoffs/...</td>\n",
       "      <td>Miami Heat</td>\n",
       "      <td>Milwaukee Bucks</td>\n",
       "      <td>1-1</td>\n",
       "      <td>LW</td>\n",
       "    </tr>\n",
       "    <tr>\n",
       "      <th>4</th>\n",
       "      <td>https://www.basketball-reference.com/playoffs/...</td>\n",
       "      <td>Miami Heat</td>\n",
       "      <td>Miami Heat</td>\n",
       "      <td>2-1</td>\n",
       "      <td>WLW</td>\n",
       "    </tr>\n",
       "  </tbody>\n",
       "</table>\n",
       "</div>"
      ],
      "text/plain": [
       "                                              Series      Winner  \\\n",
       "0  https://www.basketball-reference.com/playoffs/...  Miami Heat   \n",
       "1  https://www.basketball-reference.com/playoffs/...  Miami Heat   \n",
       "2  https://www.basketball-reference.com/playoffs/...  Miami Heat   \n",
       "3  https://www.basketball-reference.com/playoffs/...  Miami Heat   \n",
       "4  https://www.basketball-reference.com/playoffs/...  Miami Heat   \n",
       "\n",
       "         This Team Record Win Order  \n",
       "0       Miami Heat    1-0         W  \n",
       "1  Milwaukee Bucks    0-1         L  \n",
       "2       Miami Heat    1-1        WL  \n",
       "3  Milwaukee Bucks    1-1        LW  \n",
       "4       Miami Heat    2-1       WLW  "
      ]
     },
     "execution_count": 5,
     "metadata": {},
     "output_type": "execute_result"
    }
   ],
   "source": [
    "# reading the data we scraped\n",
    "df = pd.read_csv('../results/nba_playoff_results.csv')\n",
    "df.head()"
   ]
  },
  {
   "cell_type": "code",
   "execution_count": 6,
   "metadata": {},
   "outputs": [
    {
     "data": {
      "text/plain": [
       "355"
      ]
     },
     "execution_count": 6,
     "metadata": {},
     "output_type": "execute_result"
    }
   ],
   "source": [
    "# Get the number of unique Series played\n",
    "df['Series'].nunique()\n",
    "\n",
    "# print each unique value of Series\n",
    "df['Series'].unique()"
   ]
  },
  {
   "cell_type": "code",
   "execution_count": null,
   "metadata": {},
   "outputs": [],
   "source": []
  }
 ],
 "metadata": {
  "kernelspec": {
   "display_name": "bbref",
   "language": "python",
   "name": "python3"
  },
  "language_info": {
   "codemirror_mode": {
    "name": "ipython",
    "version": 3
   },
   "file_extension": ".py",
   "mimetype": "text/x-python",
   "name": "python",
   "nbconvert_exporter": "python",
   "pygments_lexer": "ipython3",
   "version": "3.10.6"
  },
  "orig_nbformat": 4
 },
 "nbformat": 4,
 "nbformat_minor": 2
}
